{
 "cells": [
  {
   "cell_type": "code",
   "execution_count": 1,
   "metadata": {},
   "outputs": [],
   "source": [
    "import requests\n",
    "import bs4\n"
   ]
  },
  {
   "cell_type": "code",
   "execution_count": null,
   "metadata": {},
   "outputs": [],
   "source": []
  },
  {
   "cell_type": "code",
   "execution_count": 2,
   "metadata": {
    "scrolled": true
   },
   "outputs": [],
   "source": [
    "# make the http request and turn the reponse into a beautiful soup object\n",
    "\n",
    "response = requests.get('https://web-scraping-demo.zgulde.net/news')\n",
    "html = response.text\n",
    "soup = bs4.BeautifulSoup(html)"
   ]
  },
  {
   "cell_type": "code",
   "execution_count": 3,
   "metadata": {},
   "outputs": [],
   "source": [
    "article_container = soup.select('.grid.gap-y-12')[0]"
   ]
  },
  {
   "cell_type": "code",
   "execution_count": null,
   "metadata": {},
   "outputs": [],
   "source": []
  },
  {
   "cell_type": "code",
   "execution_count": 4,
   "metadata": {},
   "outputs": [],
   "source": [
    "articles = article_container.children"
   ]
  },
  {
   "cell_type": "code",
   "execution_count": 5,
   "metadata": {},
   "outputs": [
    {
     "data": {
      "text/plain": [
       "12"
      ]
     },
     "execution_count": 5,
     "metadata": {},
     "output_type": "execute_result"
    }
   ],
   "source": [
    "len(article_container.select('.grid.grid-cols-4.gap-x-4.border'))"
   ]
  },
  {
   "cell_type": "code",
   "execution_count": 6,
   "metadata": {
    "scrolled": true
   },
   "outputs": [],
   "source": [
    "articles = article_container.select('.grid.grid-cols-4.gap-x-4.border')"
   ]
  },
  {
   "cell_type": "code",
   "execution_count": 7,
   "metadata": {},
   "outputs": [
    {
     "name": "stdout",
     "output_type": "stream",
     "text": [
      "<div class=\"grid grid-cols-4 gap-x-4 border rounded pr-3 bg-green-50 hover:shadow-lg transition duration-500\">\n",
      " <img src=\"/static/placeholder.png\"/>\n",
      " <div class=\"col-span-3 space-y-3 py-3\">\n",
      "  <h2 class=\"text-2xl text-green-900\">\n",
      "   last arm recent\n",
      "  </h2>\n",
      "  <div class=\"grid grid-cols-2 italic\">\n",
      "   <p>\n",
      "    1971-08-14\n",
      "   </p>\n",
      "   <p class=\"text-right\">\n",
      "    By Tyler Vargas\n",
      "   </p>\n",
      "  </div>\n",
      "  <p>\n",
      "   Ask law situation attention skin. Church magazine fear understand contain. Fear possible network prove.\n",
      "Middle become role common increase exist reveal. Assume wind drug fact herself worry dinner.\n",
      "  </p>\n",
      " </div>\n",
      "</div>\n",
      "\n"
     ]
    }
   ],
   "source": [
    "article = articles[0]\n",
    "# get a pretty printed represenation of our element\n",
    "print(article.prettify())"
   ]
  },
  {
   "cell_type": "code",
   "execution_count": 8,
   "metadata": {},
   "outputs": [],
   "source": [
    "title = article.find('h2').text"
   ]
  },
  {
   "cell_type": "code",
   "execution_count": 9,
   "metadata": {},
   "outputs": [],
   "source": [
    "title = article.find('h2').text\n",
    "date_and_byline_div = article.select('.grid.grid-cols-2.italic')[0]"
   ]
  },
  {
   "cell_type": "code",
   "execution_count": 10,
   "metadata": {},
   "outputs": [
    {
     "data": {
      "text/plain": [
       "' 1971-08-14 '"
      ]
     },
     "execution_count": 10,
     "metadata": {},
     "output_type": "execute_result"
    }
   ],
   "source": [
    "date_p, by_p = date_and_byline_div.find_all('p')\n",
    "date_p.text"
   ]
  },
  {
   "cell_type": "code",
   "execution_count": 11,
   "metadata": {},
   "outputs": [
    {
     "data": {
      "text/plain": [
       "<p class=\"text-right\">By Tyler Vargas </p>"
      ]
     },
     "execution_count": 11,
     "metadata": {},
     "output_type": "execute_result"
    }
   ],
   "source": [
    "by_p"
   ]
  },
  {
   "cell_type": "code",
   "execution_count": 12,
   "metadata": {},
   "outputs": [],
   "source": [
    "summary = article.find_all('p')[-1].text"
   ]
  },
  {
   "cell_type": "code",
   "execution_count": 13,
   "metadata": {},
   "outputs": [],
   "source": [
    "def process_article(article):\n",
    "    \n",
    "    title = article.find('h2').text\n",
    "    date_and_byline_div = article.select('.grid.grid-cols-2.italic')[0]\n",
    "    date_p, by_p = date_and_byline_div.find_all('p')\n",
    "    summary = article.find_all('p')[-1].text\n",
    "\n",
    "    return {\n",
    "        \"title\": title,\n",
    "        \"date\": date_p.text,\n",
    "        \"by\": by_p.text,\n",
    "        \"summary\": summary\n",
    "\n",
    "        }\n"
   ]
  },
  {
   "cell_type": "code",
   "execution_count": 14,
   "metadata": {},
   "outputs": [
    {
     "data": {
      "text/plain": [
       "{'title': 'run play choice',\n",
       " 'date': ' 1998-08-27 ',\n",
       " 'by': 'By Julie Garcia ',\n",
       " 'summary': 'Society another look scientist. Begin situation size chair performance still her finally. Number strong more.\\nOil energy voice your program card as night. Voice gas turn theory newspaper doctor. Today defense people human hospital.'}"
      ]
     },
     "execution_count": 14,
     "metadata": {},
     "output_type": "execute_result"
    }
   ],
   "source": [
    "process_article(articles[3])"
   ]
  },
  {
   "cell_type": "code",
   "execution_count": 15,
   "metadata": {},
   "outputs": [
    {
     "data": {
      "text/html": [
       "<div>\n",
       "<style scoped>\n",
       "    .dataframe tbody tr th:only-of-type {\n",
       "        vertical-align: middle;\n",
       "    }\n",
       "\n",
       "    .dataframe tbody tr th {\n",
       "        vertical-align: top;\n",
       "    }\n",
       "\n",
       "    .dataframe thead th {\n",
       "        text-align: right;\n",
       "    }\n",
       "</style>\n",
       "<table border=\"1\" class=\"dataframe\">\n",
       "  <thead>\n",
       "    <tr style=\"text-align: right;\">\n",
       "      <th></th>\n",
       "      <th>title</th>\n",
       "      <th>date</th>\n",
       "      <th>by</th>\n",
       "      <th>summary</th>\n",
       "    </tr>\n",
       "  </thead>\n",
       "  <tbody>\n",
       "    <tr>\n",
       "      <th>0</th>\n",
       "      <td>last arm recent</td>\n",
       "      <td>1971-08-14</td>\n",
       "      <td>By Tyler Vargas</td>\n",
       "      <td>Ask law situation attention skin. Church magaz...</td>\n",
       "    </tr>\n",
       "    <tr>\n",
       "      <th>1</th>\n",
       "      <td>but work few</td>\n",
       "      <td>1978-08-23</td>\n",
       "      <td>By Joseph Torres</td>\n",
       "      <td>Various whatever financial model reach. Sort c...</td>\n",
       "    </tr>\n",
       "    <tr>\n",
       "      <th>2</th>\n",
       "      <td>not write challenge</td>\n",
       "      <td>1988-01-13</td>\n",
       "      <td>By Matthew Ferguson</td>\n",
       "      <td>Its late war side much couple. Energy morning ...</td>\n",
       "    </tr>\n",
       "    <tr>\n",
       "      <th>3</th>\n",
       "      <td>run play choice</td>\n",
       "      <td>1998-08-27</td>\n",
       "      <td>By Julie Garcia</td>\n",
       "      <td>Society another look scientist. Begin situatio...</td>\n",
       "    </tr>\n",
       "    <tr>\n",
       "      <th>4</th>\n",
       "      <td>special eat boy</td>\n",
       "      <td>1998-02-20</td>\n",
       "      <td>By Amy Warren</td>\n",
       "      <td>Law both necessary heart stay. Response serve ...</td>\n",
       "    </tr>\n",
       "    <tr>\n",
       "      <th>5</th>\n",
       "      <td>painting choose part</td>\n",
       "      <td>1994-12-09</td>\n",
       "      <td>By Andrew Padilla</td>\n",
       "      <td>Decision vote total apply until worker listen....</td>\n",
       "    </tr>\n",
       "    <tr>\n",
       "      <th>6</th>\n",
       "      <td>car thus real</td>\n",
       "      <td>2021-04-12</td>\n",
       "      <td>By Nicholas Jacobs</td>\n",
       "      <td>Cover former participant pattern sure. This qu...</td>\n",
       "    </tr>\n",
       "    <tr>\n",
       "      <th>7</th>\n",
       "      <td>reason all once</td>\n",
       "      <td>1978-07-27</td>\n",
       "      <td>By Joseph Bryan</td>\n",
       "      <td>Rock information laugh trade my sport agree co...</td>\n",
       "    </tr>\n",
       "    <tr>\n",
       "      <th>8</th>\n",
       "      <td>ground close main</td>\n",
       "      <td>1996-10-14</td>\n",
       "      <td>By Amanda Atkins</td>\n",
       "      <td>Time method participant speech. Wide include b...</td>\n",
       "    </tr>\n",
       "    <tr>\n",
       "      <th>9</th>\n",
       "      <td>research such successful</td>\n",
       "      <td>1984-08-04</td>\n",
       "      <td>By Joseph Brown</td>\n",
       "      <td>Sort soon site. Him board affect where less to...</td>\n",
       "    </tr>\n",
       "    <tr>\n",
       "      <th>10</th>\n",
       "      <td>war southern smile</td>\n",
       "      <td>2002-07-18</td>\n",
       "      <td>By Luke Hatfield</td>\n",
       "      <td>See determine act business compare or. Propert...</td>\n",
       "    </tr>\n",
       "    <tr>\n",
       "      <th>11</th>\n",
       "      <td>year draw newspaper</td>\n",
       "      <td>1994-12-22</td>\n",
       "      <td>By Andrea Rivera</td>\n",
       "      <td>Relate else work leave. Position agree little ...</td>\n",
       "    </tr>\n",
       "  </tbody>\n",
       "</table>\n",
       "</div>"
      ],
      "text/plain": [
       "                       title          date                    by  \\\n",
       "0            last arm recent   1971-08-14       By Tyler Vargas    \n",
       "1               but work few   1978-08-23      By Joseph Torres    \n",
       "2        not write challenge   1988-01-13   By Matthew Ferguson    \n",
       "3            run play choice   1998-08-27       By Julie Garcia    \n",
       "4            special eat boy   1998-02-20         By Amy Warren    \n",
       "5       painting choose part   1994-12-09     By Andrew Padilla    \n",
       "6              car thus real   2021-04-12    By Nicholas Jacobs    \n",
       "7            reason all once   1978-07-27       By Joseph Bryan    \n",
       "8          ground close main   1996-10-14      By Amanda Atkins    \n",
       "9   research such successful   1984-08-04       By Joseph Brown    \n",
       "10        war southern smile   2002-07-18      By Luke Hatfield    \n",
       "11       year draw newspaper   1994-12-22      By Andrea Rivera    \n",
       "\n",
       "                                              summary  \n",
       "0   Ask law situation attention skin. Church magaz...  \n",
       "1   Various whatever financial model reach. Sort c...  \n",
       "2   Its late war side much couple. Energy morning ...  \n",
       "3   Society another look scientist. Begin situatio...  \n",
       "4   Law both necessary heart stay. Response serve ...  \n",
       "5   Decision vote total apply until worker listen....  \n",
       "6   Cover former participant pattern sure. This qu...  \n",
       "7   Rock information laugh trade my sport agree co...  \n",
       "8   Time method participant speech. Wide include b...  \n",
       "9   Sort soon site. Him board affect where less to...  \n",
       "10  See determine act business compare or. Propert...  \n",
       "11  Relate else work leave. Position agree little ...  "
      ]
     },
     "execution_count": 15,
     "metadata": {},
     "output_type": "execute_result"
    }
   ],
   "source": [
    "import pandas as pd\n",
    "\n",
    "pd.DataFrame([process_article(article) for article in articles])"
   ]
  },
  {
   "cell_type": "markdown",
   "metadata": {},
   "source": [
    "-----------"
   ]
  },
  {
   "cell_type": "code",
   "execution_count": 16,
   "metadata": {},
   "outputs": [],
   "source": [
    "# make the http request and turn the reponse into a beautiful soup object\n",
    "\n",
    "response = requests.get('https://web-scraping-demo.zgulde.net/people')\n",
    "html = response.text\n",
    "soup = bs4.BeautifulSoup(html)"
   ]
  },
  {
   "cell_type": "code",
   "execution_count": null,
   "metadata": {
    "scrolled": true
   },
   "outputs": [],
   "source": []
  },
  {
   "cell_type": "code",
   "execution_count": 17,
   "metadata": {},
   "outputs": [],
   "source": [
    "name_container = soup.select(\".grid.grid-cols-2.gap-x-12.gap-y-16\")[0]"
   ]
  },
  {
   "cell_type": "code",
   "execution_count": 18,
   "metadata": {
    "scrolled": true
   },
   "outputs": [
    {
     "data": {
      "text/plain": [
       "<div class=\"grid grid-cols-2 gap-x-12 gap-y-16\" id=\"people\">\n",
       "<div class=\"person border rounded px-3 py-5 grid grid-cols-2 gap-x-3 bg-purple-50 hover:shadow-lg transition duration-500\">\n",
       "<h2 class=\"text-2xl text-purple-800 name col-span-full border-b\">Cody Ramirez</h2>\n",
       "<p class=\"quote col-span-full px-5 py-5 text-center text-gray-500\">\n",
       "            \"Persistent bottom-line website\"\n",
       "        </p>\n",
       "<div class=\"grid grid-cols-9\">\n",
       "<i class=\"bi bi-envelope-fill text-purple-800\"></i>\n",
       "<p class=\"email col-span-8\">williamsmichele@barnett.com</p>\n",
       "<i class=\"bi bi-telephone-fill text-purple-800\"></i>\n",
       "<p class=\"phone col-span-8\">(233)203-9156x35612</p>\n",
       "</div>\n",
       "<div class=\"address grid grid-cols-9\">\n",
       "<i class=\"bi bi-geo-fill text-purple-800\"></i>\n",
       "<p class=\"col-span-8\">\n",
       "                447 Singleton Drive <br/>\n",
       "                Guerreroport, SC 80386\n",
       "            </p>\n",
       "</div>\n",
       "</div>\n",
       "<div class=\"person border rounded px-3 py-5 grid grid-cols-2 gap-x-3 bg-purple-50 hover:shadow-lg transition duration-500\">\n",
       "<h2 class=\"text-2xl text-purple-800 name col-span-full border-b\">Shannon Cummings</h2>\n",
       "<p class=\"quote col-span-full px-5 py-5 text-center text-gray-500\">\n",
       "            \"Seamless regional framework\"\n",
       "        </p>\n",
       "<div class=\"grid grid-cols-9\">\n",
       "<i class=\"bi bi-envelope-fill text-purple-800\"></i>\n",
       "<p class=\"email col-span-8\">stanleybarbara@yahoo.com</p>\n",
       "<i class=\"bi bi-telephone-fill text-purple-800\"></i>\n",
       "<p class=\"phone col-span-8\">754.932.0449x900</p>\n",
       "</div>\n",
       "<div class=\"address grid grid-cols-9\">\n",
       "<i class=\"bi bi-geo-fill text-purple-800\"></i>\n",
       "<p class=\"col-span-8\">\n",
       "                85229 Nicole Plain Suite 389 <br/>\n",
       "                Charlenefurt, TN 04419\n",
       "            </p>\n",
       "</div>\n",
       "</div>\n",
       "<div class=\"person border rounded px-3 py-5 grid grid-cols-2 gap-x-3 bg-purple-50 hover:shadow-lg transition duration-500\">\n",
       "<h2 class=\"text-2xl text-purple-800 name col-span-full border-b\">Robert Willis</h2>\n",
       "<p class=\"quote col-span-full px-5 py-5 text-center text-gray-500\">\n",
       "            \"Focused methodical hierarchy\"\n",
       "        </p>\n",
       "<div class=\"grid grid-cols-9\">\n",
       "<i class=\"bi bi-envelope-fill text-purple-800\"></i>\n",
       "<p class=\"email col-span-8\">megan13@hernandez.com</p>\n",
       "<i class=\"bi bi-telephone-fill text-purple-800\"></i>\n",
       "<p class=\"phone col-span-8\">369.513.6142</p>\n",
       "</div>\n",
       "<div class=\"address grid grid-cols-9\">\n",
       "<i class=\"bi bi-geo-fill text-purple-800\"></i>\n",
       "<p class=\"col-span-8\">\n",
       "                08348 White Squares Apt. 909 <br/>\n",
       "                Lake Brendaland, WY 06719\n",
       "            </p>\n",
       "</div>\n",
       "</div>\n",
       "<div class=\"person border rounded px-3 py-5 grid grid-cols-2 gap-x-3 bg-purple-50 hover:shadow-lg transition duration-500\">\n",
       "<h2 class=\"text-2xl text-purple-800 name col-span-full border-b\">Stacy Gutierrez</h2>\n",
       "<p class=\"quote col-span-full px-5 py-5 text-center text-gray-500\">\n",
       "            \"Focused explicit software\"\n",
       "        </p>\n",
       "<div class=\"grid grid-cols-9\">\n",
       "<i class=\"bi bi-envelope-fill text-purple-800\"></i>\n",
       "<p class=\"email col-span-8\">smartinez@dixon.com</p>\n",
       "<i class=\"bi bi-telephone-fill text-purple-800\"></i>\n",
       "<p class=\"phone col-span-8\">(636)185-1171x52850</p>\n",
       "</div>\n",
       "<div class=\"address grid grid-cols-9\">\n",
       "<i class=\"bi bi-geo-fill text-purple-800\"></i>\n",
       "<p class=\"col-span-8\">\n",
       "                559 Anthony Fields Suite 119 <br/>\n",
       "                Meghanmouth, MA 09894\n",
       "            </p>\n",
       "</div>\n",
       "</div>\n",
       "<div class=\"person border rounded px-3 py-5 grid grid-cols-2 gap-x-3 bg-purple-50 hover:shadow-lg transition duration-500\">\n",
       "<h2 class=\"text-2xl text-purple-800 name col-span-full border-b\">Andrea White</h2>\n",
       "<p class=\"quote col-span-full px-5 py-5 text-center text-gray-500\">\n",
       "            \"Implemented client-driven adapter\"\n",
       "        </p>\n",
       "<div class=\"grid grid-cols-9\">\n",
       "<i class=\"bi bi-envelope-fill text-purple-800\"></i>\n",
       "<p class=\"email col-span-8\">bradschultz@stewart.info</p>\n",
       "<i class=\"bi bi-telephone-fill text-purple-800\"></i>\n",
       "<p class=\"phone col-span-8\">(773)600-8326x363</p>\n",
       "</div>\n",
       "<div class=\"address grid grid-cols-9\">\n",
       "<i class=\"bi bi-geo-fill text-purple-800\"></i>\n",
       "<p class=\"col-span-8\">\n",
       "                1064 Allen Shores <br/>\n",
       "                New Robertland, DE 87759\n",
       "            </p>\n",
       "</div>\n",
       "</div>\n",
       "<div class=\"person border rounded px-3 py-5 grid grid-cols-2 gap-x-3 bg-purple-50 hover:shadow-lg transition duration-500\">\n",
       "<h2 class=\"text-2xl text-purple-800 name col-span-full border-b\">David Nicholson</h2>\n",
       "<p class=\"quote col-span-full px-5 py-5 text-center text-gray-500\">\n",
       "            \"Customizable systemic customer loyalty\"\n",
       "        </p>\n",
       "<div class=\"grid grid-cols-9\">\n",
       "<i class=\"bi bi-envelope-fill text-purple-800\"></i>\n",
       "<p class=\"email col-span-8\">vryan@gmail.com</p>\n",
       "<i class=\"bi bi-telephone-fill text-purple-800\"></i>\n",
       "<p class=\"phone col-span-8\">001-023-592-4007</p>\n",
       "</div>\n",
       "<div class=\"address grid grid-cols-9\">\n",
       "<i class=\"bi bi-geo-fill text-purple-800\"></i>\n",
       "<p class=\"col-span-8\">\n",
       "                86352 Wilson Ferry <br/>\n",
       "                Alexanderhaven, CO 45294\n",
       "            </p>\n",
       "</div>\n",
       "</div>\n",
       "<div class=\"person border rounded px-3 py-5 grid grid-cols-2 gap-x-3 bg-purple-50 hover:shadow-lg transition duration-500\">\n",
       "<h2 class=\"text-2xl text-purple-800 name col-span-full border-b\">Emma Baker</h2>\n",
       "<p class=\"quote col-span-full px-5 py-5 text-center text-gray-500\">\n",
       "            \"Stand-alone 5thgeneration core\"\n",
       "        </p>\n",
       "<div class=\"grid grid-cols-9\">\n",
       "<i class=\"bi bi-envelope-fill text-purple-800\"></i>\n",
       "<p class=\"email col-span-8\">hbrown@hotmail.com</p>\n",
       "<i class=\"bi bi-telephone-fill text-purple-800\"></i>\n",
       "<p class=\"phone col-span-8\">+1-308-642-3756x619</p>\n",
       "</div>\n",
       "<div class=\"address grid grid-cols-9\">\n",
       "<i class=\"bi bi-geo-fill text-purple-800\"></i>\n",
       "<p class=\"col-span-8\">\n",
       "                16775 Jason Route Apt. 093 <br/>\n",
       "                Maynardview, DE 80772\n",
       "            </p>\n",
       "</div>\n",
       "</div>\n",
       "<div class=\"person border rounded px-3 py-5 grid grid-cols-2 gap-x-3 bg-purple-50 hover:shadow-lg transition duration-500\">\n",
       "<h2 class=\"text-2xl text-purple-800 name col-span-full border-b\">Joshua Johnson</h2>\n",
       "<p class=\"quote col-span-full px-5 py-5 text-center text-gray-500\">\n",
       "            \"Devolved empowering forecast\"\n",
       "        </p>\n",
       "<div class=\"grid grid-cols-9\">\n",
       "<i class=\"bi bi-envelope-fill text-purple-800\"></i>\n",
       "<p class=\"email col-span-8\">megan77@lambert.info</p>\n",
       "<i class=\"bi bi-telephone-fill text-purple-800\"></i>\n",
       "<p class=\"phone col-span-8\">001-216-376-0131x26959</p>\n",
       "</div>\n",
       "<div class=\"address grid grid-cols-9\">\n",
       "<i class=\"bi bi-geo-fill text-purple-800\"></i>\n",
       "<p class=\"col-span-8\">\n",
       "                5707 Nicholas Turnpike <br/>\n",
       "                Laurashire, MS 07989\n",
       "            </p>\n",
       "</div>\n",
       "</div>\n",
       "<div class=\"person border rounded px-3 py-5 grid grid-cols-2 gap-x-3 bg-purple-50 hover:shadow-lg transition duration-500\">\n",
       "<h2 class=\"text-2xl text-purple-800 name col-span-full border-b\">Juan Martin</h2>\n",
       "<p class=\"quote col-span-full px-5 py-5 text-center text-gray-500\">\n",
       "            \"Triple-buffered 3rdgeneration parallelism\"\n",
       "        </p>\n",
       "<div class=\"grid grid-cols-9\">\n",
       "<i class=\"bi bi-envelope-fill text-purple-800\"></i>\n",
       "<p class=\"email col-span-8\">esnyder@huffman.com</p>\n",
       "<i class=\"bi bi-telephone-fill text-purple-800\"></i>\n",
       "<p class=\"phone col-span-8\">621.514.0405x63181</p>\n",
       "</div>\n",
       "<div class=\"address grid grid-cols-9\">\n",
       "<i class=\"bi bi-geo-fill text-purple-800\"></i>\n",
       "<p class=\"col-span-8\">\n",
       "                2980 Anderson Mission Suite 762 <br/>\n",
       "                Port Michele, MN 81216\n",
       "            </p>\n",
       "</div>\n",
       "</div>\n",
       "<div class=\"person border rounded px-3 py-5 grid grid-cols-2 gap-x-3 bg-purple-50 hover:shadow-lg transition duration-500\">\n",
       "<h2 class=\"text-2xl text-purple-800 name col-span-full border-b\">Vanessa Arnold</h2>\n",
       "<p class=\"quote col-span-full px-5 py-5 text-center text-gray-500\">\n",
       "            \"Quality-focused regional initiative\"\n",
       "        </p>\n",
       "<div class=\"grid grid-cols-9\">\n",
       "<i class=\"bi bi-envelope-fill text-purple-800\"></i>\n",
       "<p class=\"email col-span-8\">mackenzie52@gmail.com</p>\n",
       "<i class=\"bi bi-telephone-fill text-purple-800\"></i>\n",
       "<p class=\"phone col-span-8\">115.660.1215</p>\n",
       "</div>\n",
       "<div class=\"address grid grid-cols-9\">\n",
       "<i class=\"bi bi-geo-fill text-purple-800\"></i>\n",
       "<p class=\"col-span-8\">\n",
       "                1953 Melissa Light <br/>\n",
       "                East Robert, MN 66595\n",
       "            </p>\n",
       "</div>\n",
       "</div>\n",
       "</div>"
      ]
     },
     "execution_count": 18,
     "metadata": {},
     "output_type": "execute_result"
    }
   ],
   "source": [
    "name_container"
   ]
  },
  {
   "cell_type": "code",
   "execution_count": 19,
   "metadata": {
    "scrolled": true
   },
   "outputs": [
    {
     "data": {
      "text/plain": [
       "[<div class=\"grid grid-cols-2 gap-x-12 gap-y-16\" id=\"people\">\n",
       " <div class=\"person border rounded px-3 py-5 grid grid-cols-2 gap-x-3 bg-purple-50 hover:shadow-lg transition duration-500\">\n",
       " <h2 class=\"text-2xl text-purple-800 name col-span-full border-b\">Cody Ramirez</h2>\n",
       " <p class=\"quote col-span-full px-5 py-5 text-center text-gray-500\">\n",
       "             \"Persistent bottom-line website\"\n",
       "         </p>\n",
       " <div class=\"grid grid-cols-9\">\n",
       " <i class=\"bi bi-envelope-fill text-purple-800\"></i>\n",
       " <p class=\"email col-span-8\">williamsmichele@barnett.com</p>\n",
       " <i class=\"bi bi-telephone-fill text-purple-800\"></i>\n",
       " <p class=\"phone col-span-8\">(233)203-9156x35612</p>\n",
       " </div>\n",
       " <div class=\"address grid grid-cols-9\">\n",
       " <i class=\"bi bi-geo-fill text-purple-800\"></i>\n",
       " <p class=\"col-span-8\">\n",
       "                 447 Singleton Drive <br/>\n",
       "                 Guerreroport, SC 80386\n",
       "             </p>\n",
       " </div>\n",
       " </div>\n",
       " <div class=\"person border rounded px-3 py-5 grid grid-cols-2 gap-x-3 bg-purple-50 hover:shadow-lg transition duration-500\">\n",
       " <h2 class=\"text-2xl text-purple-800 name col-span-full border-b\">Shannon Cummings</h2>\n",
       " <p class=\"quote col-span-full px-5 py-5 text-center text-gray-500\">\n",
       "             \"Seamless regional framework\"\n",
       "         </p>\n",
       " <div class=\"grid grid-cols-9\">\n",
       " <i class=\"bi bi-envelope-fill text-purple-800\"></i>\n",
       " <p class=\"email col-span-8\">stanleybarbara@yahoo.com</p>\n",
       " <i class=\"bi bi-telephone-fill text-purple-800\"></i>\n",
       " <p class=\"phone col-span-8\">754.932.0449x900</p>\n",
       " </div>\n",
       " <div class=\"address grid grid-cols-9\">\n",
       " <i class=\"bi bi-geo-fill text-purple-800\"></i>\n",
       " <p class=\"col-span-8\">\n",
       "                 85229 Nicole Plain Suite 389 <br/>\n",
       "                 Charlenefurt, TN 04419\n",
       "             </p>\n",
       " </div>\n",
       " </div>\n",
       " <div class=\"person border rounded px-3 py-5 grid grid-cols-2 gap-x-3 bg-purple-50 hover:shadow-lg transition duration-500\">\n",
       " <h2 class=\"text-2xl text-purple-800 name col-span-full border-b\">Robert Willis</h2>\n",
       " <p class=\"quote col-span-full px-5 py-5 text-center text-gray-500\">\n",
       "             \"Focused methodical hierarchy\"\n",
       "         </p>\n",
       " <div class=\"grid grid-cols-9\">\n",
       " <i class=\"bi bi-envelope-fill text-purple-800\"></i>\n",
       " <p class=\"email col-span-8\">megan13@hernandez.com</p>\n",
       " <i class=\"bi bi-telephone-fill text-purple-800\"></i>\n",
       " <p class=\"phone col-span-8\">369.513.6142</p>\n",
       " </div>\n",
       " <div class=\"address grid grid-cols-9\">\n",
       " <i class=\"bi bi-geo-fill text-purple-800\"></i>\n",
       " <p class=\"col-span-8\">\n",
       "                 08348 White Squares Apt. 909 <br/>\n",
       "                 Lake Brendaland, WY 06719\n",
       "             </p>\n",
       " </div>\n",
       " </div>\n",
       " <div class=\"person border rounded px-3 py-5 grid grid-cols-2 gap-x-3 bg-purple-50 hover:shadow-lg transition duration-500\">\n",
       " <h2 class=\"text-2xl text-purple-800 name col-span-full border-b\">Stacy Gutierrez</h2>\n",
       " <p class=\"quote col-span-full px-5 py-5 text-center text-gray-500\">\n",
       "             \"Focused explicit software\"\n",
       "         </p>\n",
       " <div class=\"grid grid-cols-9\">\n",
       " <i class=\"bi bi-envelope-fill text-purple-800\"></i>\n",
       " <p class=\"email col-span-8\">smartinez@dixon.com</p>\n",
       " <i class=\"bi bi-telephone-fill text-purple-800\"></i>\n",
       " <p class=\"phone col-span-8\">(636)185-1171x52850</p>\n",
       " </div>\n",
       " <div class=\"address grid grid-cols-9\">\n",
       " <i class=\"bi bi-geo-fill text-purple-800\"></i>\n",
       " <p class=\"col-span-8\">\n",
       "                 559 Anthony Fields Suite 119 <br/>\n",
       "                 Meghanmouth, MA 09894\n",
       "             </p>\n",
       " </div>\n",
       " </div>\n",
       " <div class=\"person border rounded px-3 py-5 grid grid-cols-2 gap-x-3 bg-purple-50 hover:shadow-lg transition duration-500\">\n",
       " <h2 class=\"text-2xl text-purple-800 name col-span-full border-b\">Andrea White</h2>\n",
       " <p class=\"quote col-span-full px-5 py-5 text-center text-gray-500\">\n",
       "             \"Implemented client-driven adapter\"\n",
       "         </p>\n",
       " <div class=\"grid grid-cols-9\">\n",
       " <i class=\"bi bi-envelope-fill text-purple-800\"></i>\n",
       " <p class=\"email col-span-8\">bradschultz@stewart.info</p>\n",
       " <i class=\"bi bi-telephone-fill text-purple-800\"></i>\n",
       " <p class=\"phone col-span-8\">(773)600-8326x363</p>\n",
       " </div>\n",
       " <div class=\"address grid grid-cols-9\">\n",
       " <i class=\"bi bi-geo-fill text-purple-800\"></i>\n",
       " <p class=\"col-span-8\">\n",
       "                 1064 Allen Shores <br/>\n",
       "                 New Robertland, DE 87759\n",
       "             </p>\n",
       " </div>\n",
       " </div>\n",
       " <div class=\"person border rounded px-3 py-5 grid grid-cols-2 gap-x-3 bg-purple-50 hover:shadow-lg transition duration-500\">\n",
       " <h2 class=\"text-2xl text-purple-800 name col-span-full border-b\">David Nicholson</h2>\n",
       " <p class=\"quote col-span-full px-5 py-5 text-center text-gray-500\">\n",
       "             \"Customizable systemic customer loyalty\"\n",
       "         </p>\n",
       " <div class=\"grid grid-cols-9\">\n",
       " <i class=\"bi bi-envelope-fill text-purple-800\"></i>\n",
       " <p class=\"email col-span-8\">vryan@gmail.com</p>\n",
       " <i class=\"bi bi-telephone-fill text-purple-800\"></i>\n",
       " <p class=\"phone col-span-8\">001-023-592-4007</p>\n",
       " </div>\n",
       " <div class=\"address grid grid-cols-9\">\n",
       " <i class=\"bi bi-geo-fill text-purple-800\"></i>\n",
       " <p class=\"col-span-8\">\n",
       "                 86352 Wilson Ferry <br/>\n",
       "                 Alexanderhaven, CO 45294\n",
       "             </p>\n",
       " </div>\n",
       " </div>\n",
       " <div class=\"person border rounded px-3 py-5 grid grid-cols-2 gap-x-3 bg-purple-50 hover:shadow-lg transition duration-500\">\n",
       " <h2 class=\"text-2xl text-purple-800 name col-span-full border-b\">Emma Baker</h2>\n",
       " <p class=\"quote col-span-full px-5 py-5 text-center text-gray-500\">\n",
       "             \"Stand-alone 5thgeneration core\"\n",
       "         </p>\n",
       " <div class=\"grid grid-cols-9\">\n",
       " <i class=\"bi bi-envelope-fill text-purple-800\"></i>\n",
       " <p class=\"email col-span-8\">hbrown@hotmail.com</p>\n",
       " <i class=\"bi bi-telephone-fill text-purple-800\"></i>\n",
       " <p class=\"phone col-span-8\">+1-308-642-3756x619</p>\n",
       " </div>\n",
       " <div class=\"address grid grid-cols-9\">\n",
       " <i class=\"bi bi-geo-fill text-purple-800\"></i>\n",
       " <p class=\"col-span-8\">\n",
       "                 16775 Jason Route Apt. 093 <br/>\n",
       "                 Maynardview, DE 80772\n",
       "             </p>\n",
       " </div>\n",
       " </div>\n",
       " <div class=\"person border rounded px-3 py-5 grid grid-cols-2 gap-x-3 bg-purple-50 hover:shadow-lg transition duration-500\">\n",
       " <h2 class=\"text-2xl text-purple-800 name col-span-full border-b\">Joshua Johnson</h2>\n",
       " <p class=\"quote col-span-full px-5 py-5 text-center text-gray-500\">\n",
       "             \"Devolved empowering forecast\"\n",
       "         </p>\n",
       " <div class=\"grid grid-cols-9\">\n",
       " <i class=\"bi bi-envelope-fill text-purple-800\"></i>\n",
       " <p class=\"email col-span-8\">megan77@lambert.info</p>\n",
       " <i class=\"bi bi-telephone-fill text-purple-800\"></i>\n",
       " <p class=\"phone col-span-8\">001-216-376-0131x26959</p>\n",
       " </div>\n",
       " <div class=\"address grid grid-cols-9\">\n",
       " <i class=\"bi bi-geo-fill text-purple-800\"></i>\n",
       " <p class=\"col-span-8\">\n",
       "                 5707 Nicholas Turnpike <br/>\n",
       "                 Laurashire, MS 07989\n",
       "             </p>\n",
       " </div>\n",
       " </div>\n",
       " <div class=\"person border rounded px-3 py-5 grid grid-cols-2 gap-x-3 bg-purple-50 hover:shadow-lg transition duration-500\">\n",
       " <h2 class=\"text-2xl text-purple-800 name col-span-full border-b\">Juan Martin</h2>\n",
       " <p class=\"quote col-span-full px-5 py-5 text-center text-gray-500\">\n",
       "             \"Triple-buffered 3rdgeneration parallelism\"\n",
       "         </p>\n",
       " <div class=\"grid grid-cols-9\">\n",
       " <i class=\"bi bi-envelope-fill text-purple-800\"></i>\n",
       " <p class=\"email col-span-8\">esnyder@huffman.com</p>\n",
       " <i class=\"bi bi-telephone-fill text-purple-800\"></i>\n",
       " <p class=\"phone col-span-8\">621.514.0405x63181</p>\n",
       " </div>\n",
       " <div class=\"address grid grid-cols-9\">\n",
       " <i class=\"bi bi-geo-fill text-purple-800\"></i>\n",
       " <p class=\"col-span-8\">\n",
       "                 2980 Anderson Mission Suite 762 <br/>\n",
       "                 Port Michele, MN 81216\n",
       "             </p>\n",
       " </div>\n",
       " </div>\n",
       " <div class=\"person border rounded px-3 py-5 grid grid-cols-2 gap-x-3 bg-purple-50 hover:shadow-lg transition duration-500\">\n",
       " <h2 class=\"text-2xl text-purple-800 name col-span-full border-b\">Vanessa Arnold</h2>\n",
       " <p class=\"quote col-span-full px-5 py-5 text-center text-gray-500\">\n",
       "             \"Quality-focused regional initiative\"\n",
       "         </p>\n",
       " <div class=\"grid grid-cols-9\">\n",
       " <i class=\"bi bi-envelope-fill text-purple-800\"></i>\n",
       " <p class=\"email col-span-8\">mackenzie52@gmail.com</p>\n",
       " <i class=\"bi bi-telephone-fill text-purple-800\"></i>\n",
       " <p class=\"phone col-span-8\">115.660.1215</p>\n",
       " </div>\n",
       " <div class=\"address grid grid-cols-9\">\n",
       " <i class=\"bi bi-geo-fill text-purple-800\"></i>\n",
       " <p class=\"col-span-8\">\n",
       "                 1953 Melissa Light <br/>\n",
       "                 East Robert, MN 66595\n",
       "             </p>\n",
       " </div>\n",
       " </div>\n",
       " </div>]"
      ]
     },
     "execution_count": 19,
     "metadata": {},
     "output_type": "execute_result"
    }
   ],
   "source": [
    "soup.select(\"#people\")"
   ]
  },
  {
   "cell_type": "code",
   "execution_count": 20,
   "metadata": {},
   "outputs": [
    {
     "data": {
      "text/plain": [
       "'\"Persistent bottom-line website\"'"
      ]
     },
     "execution_count": 20,
     "metadata": {},
     "output_type": "execute_result"
    }
   ],
   "source": [
    "name_container.find(class_='quote').text.strip()"
   ]
  },
  {
   "cell_type": "code",
   "execution_count": 21,
   "metadata": {},
   "outputs": [],
   "source": [
    "# identifies the individual's name\n",
    "\n",
    "person_title = name_container.find('h2').text"
   ]
  },
  {
   "cell_type": "code",
   "execution_count": 22,
   "metadata": {},
   "outputs": [
    {
     "data": {
      "text/plain": [
       "'Cody Ramirez'"
      ]
     },
     "execution_count": 22,
     "metadata": {},
     "output_type": "execute_result"
    }
   ],
   "source": [
    "person_title"
   ]
  },
  {
   "cell_type": "code",
   "execution_count": 23,
   "metadata": {},
   "outputs": [],
   "source": [
    "person_info_container = name_container.select(\".grid.grid-cols-9\")[0]"
   ]
  },
  {
   "cell_type": "code",
   "execution_count": 24,
   "metadata": {},
   "outputs": [],
   "source": [
    "email_p, phone_p = person_info_container.find_all('p')"
   ]
  },
  {
   "cell_type": "code",
   "execution_count": 25,
   "metadata": {},
   "outputs": [
    {
     "data": {
      "text/plain": [
       "<p class=\"email col-span-8\">williamsmichele@barnett.com</p>"
      ]
     },
     "execution_count": 25,
     "metadata": {},
     "output_type": "execute_result"
    }
   ],
   "source": [
    "email_p"
   ]
  },
  {
   "cell_type": "code",
   "execution_count": 26,
   "metadata": {},
   "outputs": [
    {
     "data": {
      "text/plain": [
       "<p class=\"phone col-span-8\">(233)203-9156x35612</p>"
      ]
     },
     "execution_count": 26,
     "metadata": {},
     "output_type": "execute_result"
    }
   ],
   "source": [
    "phone_p"
   ]
  },
  {
   "cell_type": "code",
   "execution_count": 27,
   "metadata": {},
   "outputs": [],
   "source": [
    "person_address_container = name_container.select(\".address.grid.grid-cols-9\")[0]"
   ]
  },
  {
   "cell_type": "code",
   "execution_count": 28,
   "metadata": {},
   "outputs": [],
   "source": [
    "address_p = person_address_container.find_all('p')"
   ]
  },
  {
   "cell_type": "code",
   "execution_count": 29,
   "metadata": {},
   "outputs": [
    {
     "data": {
      "text/plain": [
       "[<p class=\"col-span-8\">\n",
       "                 447 Singleton Drive <br/>\n",
       "                 Guerreroport, SC 80386\n",
       "             </p>]"
      ]
     },
     "execution_count": 29,
     "metadata": {},
     "output_type": "execute_result"
    }
   ],
   "source": [
    "address_p"
   ]
  },
  {
   "cell_type": "code",
   "execution_count": 92,
   "metadata": {},
   "outputs": [],
   "source": [
    "name_div = soup.select(\".grid.grid-cols-2.gap-x-12.gap-y-16\")[0]"
   ]
  },
  {
   "cell_type": "code",
   "execution_count": 93,
   "metadata": {},
   "outputs": [],
   "source": [
    "names = name_div.select('.person')"
   ]
  },
  {
   "cell_type": "code",
   "execution_count": 97,
   "metadata": {},
   "outputs": [],
   "source": [
    "name = names[3]\n"
   ]
  },
  {
   "cell_type": "markdown",
   "metadata": {},
   "source": []
  },
  {
   "cell_type": "code",
   "execution_count": 100,
   "metadata": {},
   "outputs": [],
   "source": [
    "def process_person(name):\n",
    "    \n",
    "   \n",
    "    title = name.find('h2').text\n",
    "    quote = name.find(class_='quote').text.strip()\n",
    "    person_info_container = name.select(\".grid.grid-cols-9\")[0]\n",
    "    email_p, phone_p = person_info_container.find_all('p')\n",
    "    person_address_container = name.select(\".address.grid.grid-cols-9\")[0]\n",
    "    address_p = person_address_container.find('p')\n",
    "\n",
    "    return {\n",
    "        \"title\": title,\n",
    "        \"quote\": quote,\n",
    "        \"email\": email_p.text,\n",
    "        \"phone\":phone_p.text,\n",
    "        \"address\": address_p.text\n",
    "\n",
    "        }"
   ]
  },
  {
   "cell_type": "code",
   "execution_count": 101,
   "metadata": {},
   "outputs": [
    {
     "data": {
      "text/plain": [
       "{'title': 'Robert Willis',\n",
       " 'quote': '\"Focused methodical hierarchy\"',\n",
       " 'email': 'megan13@hernandez.com',\n",
       " 'phone': '369.513.6142',\n",
       " 'address': '\\n                08348 White Squares Apt. 909 \\n                Lake Brendaland, WY 06719\\n            '}"
      ]
     },
     "execution_count": 101,
     "metadata": {},
     "output_type": "execute_result"
    }
   ],
   "source": [
    "process_person(names[2])"
   ]
  },
  {
   "cell_type": "code",
   "execution_count": 102,
   "metadata": {},
   "outputs": [
    {
     "data": {
      "text/html": [
       "<div>\n",
       "<style scoped>\n",
       "    .dataframe tbody tr th:only-of-type {\n",
       "        vertical-align: middle;\n",
       "    }\n",
       "\n",
       "    .dataframe tbody tr th {\n",
       "        vertical-align: top;\n",
       "    }\n",
       "\n",
       "    .dataframe thead th {\n",
       "        text-align: right;\n",
       "    }\n",
       "</style>\n",
       "<table border=\"1\" class=\"dataframe\">\n",
       "  <thead>\n",
       "    <tr style=\"text-align: right;\">\n",
       "      <th></th>\n",
       "      <th>title</th>\n",
       "      <th>quote</th>\n",
       "      <th>email</th>\n",
       "      <th>phone</th>\n",
       "      <th>address</th>\n",
       "    </tr>\n",
       "  </thead>\n",
       "  <tbody>\n",
       "    <tr>\n",
       "      <th>0</th>\n",
       "      <td>Cody Ramirez</td>\n",
       "      <td>\"Persistent bottom-line website\"</td>\n",
       "      <td>williamsmichele@barnett.com</td>\n",
       "      <td>(233)203-9156x35612</td>\n",
       "      <td>\\n                447 Singleton Drive \\n      ...</td>\n",
       "    </tr>\n",
       "    <tr>\n",
       "      <th>1</th>\n",
       "      <td>Shannon Cummings</td>\n",
       "      <td>\"Seamless regional framework\"</td>\n",
       "      <td>stanleybarbara@yahoo.com</td>\n",
       "      <td>754.932.0449x900</td>\n",
       "      <td>\\n                85229 Nicole Plain Suite 389...</td>\n",
       "    </tr>\n",
       "    <tr>\n",
       "      <th>2</th>\n",
       "      <td>Robert Willis</td>\n",
       "      <td>\"Focused methodical hierarchy\"</td>\n",
       "      <td>megan13@hernandez.com</td>\n",
       "      <td>369.513.6142</td>\n",
       "      <td>\\n                08348 White Squares Apt. 909...</td>\n",
       "    </tr>\n",
       "    <tr>\n",
       "      <th>3</th>\n",
       "      <td>Stacy Gutierrez</td>\n",
       "      <td>\"Focused explicit software\"</td>\n",
       "      <td>smartinez@dixon.com</td>\n",
       "      <td>(636)185-1171x52850</td>\n",
       "      <td>\\n                559 Anthony Fields Suite 119...</td>\n",
       "    </tr>\n",
       "    <tr>\n",
       "      <th>4</th>\n",
       "      <td>Andrea White</td>\n",
       "      <td>\"Implemented client-driven adapter\"</td>\n",
       "      <td>bradschultz@stewart.info</td>\n",
       "      <td>(773)600-8326x363</td>\n",
       "      <td>\\n                1064 Allen Shores \\n        ...</td>\n",
       "    </tr>\n",
       "    <tr>\n",
       "      <th>5</th>\n",
       "      <td>David Nicholson</td>\n",
       "      <td>\"Customizable systemic customer loyalty\"</td>\n",
       "      <td>vryan@gmail.com</td>\n",
       "      <td>001-023-592-4007</td>\n",
       "      <td>\\n                86352 Wilson Ferry \\n       ...</td>\n",
       "    </tr>\n",
       "    <tr>\n",
       "      <th>6</th>\n",
       "      <td>Emma Baker</td>\n",
       "      <td>\"Stand-alone 5thgeneration core\"</td>\n",
       "      <td>hbrown@hotmail.com</td>\n",
       "      <td>+1-308-642-3756x619</td>\n",
       "      <td>\\n                16775 Jason Route Apt. 093 \\...</td>\n",
       "    </tr>\n",
       "    <tr>\n",
       "      <th>7</th>\n",
       "      <td>Joshua Johnson</td>\n",
       "      <td>\"Devolved empowering forecast\"</td>\n",
       "      <td>megan77@lambert.info</td>\n",
       "      <td>001-216-376-0131x26959</td>\n",
       "      <td>\\n                5707 Nicholas Turnpike \\n   ...</td>\n",
       "    </tr>\n",
       "    <tr>\n",
       "      <th>8</th>\n",
       "      <td>Juan Martin</td>\n",
       "      <td>\"Triple-buffered 3rdgeneration parallelism\"</td>\n",
       "      <td>esnyder@huffman.com</td>\n",
       "      <td>621.514.0405x63181</td>\n",
       "      <td>\\n                2980 Anderson Mission Suite ...</td>\n",
       "    </tr>\n",
       "    <tr>\n",
       "      <th>9</th>\n",
       "      <td>Vanessa Arnold</td>\n",
       "      <td>\"Quality-focused regional initiative\"</td>\n",
       "      <td>mackenzie52@gmail.com</td>\n",
       "      <td>115.660.1215</td>\n",
       "      <td>\\n                1953 Melissa Light \\n       ...</td>\n",
       "    </tr>\n",
       "  </tbody>\n",
       "</table>\n",
       "</div>"
      ],
      "text/plain": [
       "              title                                        quote  \\\n",
       "0      Cody Ramirez             \"Persistent bottom-line website\"   \n",
       "1  Shannon Cummings                \"Seamless regional framework\"   \n",
       "2     Robert Willis               \"Focused methodical hierarchy\"   \n",
       "3   Stacy Gutierrez                  \"Focused explicit software\"   \n",
       "4      Andrea White          \"Implemented client-driven adapter\"   \n",
       "5   David Nicholson     \"Customizable systemic customer loyalty\"   \n",
       "6        Emma Baker             \"Stand-alone 5thgeneration core\"   \n",
       "7    Joshua Johnson               \"Devolved empowering forecast\"   \n",
       "8       Juan Martin  \"Triple-buffered 3rdgeneration parallelism\"   \n",
       "9    Vanessa Arnold        \"Quality-focused regional initiative\"   \n",
       "\n",
       "                         email                   phone  \\\n",
       "0  williamsmichele@barnett.com     (233)203-9156x35612   \n",
       "1     stanleybarbara@yahoo.com        754.932.0449x900   \n",
       "2        megan13@hernandez.com            369.513.6142   \n",
       "3          smartinez@dixon.com     (636)185-1171x52850   \n",
       "4     bradschultz@stewart.info       (773)600-8326x363   \n",
       "5              vryan@gmail.com        001-023-592-4007   \n",
       "6           hbrown@hotmail.com     +1-308-642-3756x619   \n",
       "7         megan77@lambert.info  001-216-376-0131x26959   \n",
       "8          esnyder@huffman.com      621.514.0405x63181   \n",
       "9        mackenzie52@gmail.com            115.660.1215   \n",
       "\n",
       "                                             address  \n",
       "0  \\n                447 Singleton Drive \\n      ...  \n",
       "1  \\n                85229 Nicole Plain Suite 389...  \n",
       "2  \\n                08348 White Squares Apt. 909...  \n",
       "3  \\n                559 Anthony Fields Suite 119...  \n",
       "4  \\n                1064 Allen Shores \\n        ...  \n",
       "5  \\n                86352 Wilson Ferry \\n       ...  \n",
       "6  \\n                16775 Jason Route Apt. 093 \\...  \n",
       "7  \\n                5707 Nicholas Turnpike \\n   ...  \n",
       "8  \\n                2980 Anderson Mission Suite ...  \n",
       "9  \\n                1953 Melissa Light \\n       ...  "
      ]
     },
     "execution_count": 102,
     "metadata": {},
     "output_type": "execute_result"
    }
   ],
   "source": [
    "pd.DataFrame([process_person(name) for name in names])"
   ]
  },
  {
   "cell_type": "markdown",
   "metadata": {},
   "source": [
    "---------\n",
    "\n",
    "Below is a more streamline way to pull the info with a function and then put into a dataframe\n",
    "\n",
    "--------"
   ]
  },
  {
   "cell_type": "code",
   "execution_count": 68,
   "metadata": {},
   "outputs": [],
   "source": [
    "people_div = soup.select(\".grid.grid-cols-2.gap-x-12.gap-y-16\")[0]"
   ]
  },
  {
   "cell_type": "code",
   "execution_count": 69,
   "metadata": {
    "scrolled": true
   },
   "outputs": [],
   "source": [
    "\n",
    "people = people_div.select('.person')\n"
   ]
  },
  {
   "cell_type": "code",
   "execution_count": 96,
   "metadata": {},
   "outputs": [
    {
     "data": {
      "text/plain": [
       "<div class=\"person border rounded px-3 py-5 grid grid-cols-2 gap-x-3 bg-purple-50 hover:shadow-lg transition duration-500\">\n",
       "<h2 class=\"text-2xl text-purple-800 name col-span-full border-b\">Cody Ramirez</h2>\n",
       "<p class=\"quote col-span-full px-5 py-5 text-center text-gray-500\">\n",
       "            \"Persistent bottom-line website\"\n",
       "        </p>\n",
       "<div class=\"grid grid-cols-9\">\n",
       "<i class=\"bi bi-envelope-fill text-purple-800\"></i>\n",
       "<p class=\"email col-span-8\">williamsmichele@barnett.com</p>\n",
       "<i class=\"bi bi-telephone-fill text-purple-800\"></i>\n",
       "<p class=\"phone col-span-8\">(233)203-9156x35612</p>\n",
       "</div>\n",
       "<div class=\"address grid grid-cols-9\">\n",
       "<i class=\"bi bi-geo-fill text-purple-800\"></i>\n",
       "<p class=\"col-span-8\">\n",
       "                447 Singleton Drive <br/>\n",
       "                Guerreroport, SC 80386\n",
       "            </p>\n",
       "</div>\n",
       "</div>"
      ]
     },
     "execution_count": 96,
     "metadata": {},
     "output_type": "execute_result"
    }
   ],
   "source": [
    "person = people[0]\n",
    "person"
   ]
  },
  {
   "cell_type": "code",
   "execution_count": 76,
   "metadata": {},
   "outputs": [],
   "source": [
    "def process_person(person):\n",
    "    return {\n",
    "        'name': person.find(class_='name').text,\n",
    "        'quote': person.find(class_='quote').text.strip(),\n",
    "        'email': person.find(class_='email').text,\n",
    "        'phone': person.find(class_='phone').text,\n",
    "        'address': person.find(class_='address').text.strip(),\n",
    "    }"
   ]
  },
  {
   "cell_type": "code",
   "execution_count": 79,
   "metadata": {},
   "outputs": [
    {
     "data": {
      "text/plain": [
       "{'name': 'David Nicholson',\n",
       " 'quote': '\"Customizable systemic customer loyalty\"',\n",
       " 'email': 'vryan@gmail.com',\n",
       " 'phone': '001-023-592-4007',\n",
       " 'address': '86352 Wilson Ferry \\n                Alexanderhaven, CO 45294'}"
      ]
     },
     "execution_count": 79,
     "metadata": {},
     "output_type": "execute_result"
    }
   ],
   "source": [
    "process_person(people[5])"
   ]
  },
  {
   "cell_type": "code",
   "execution_count": 80,
   "metadata": {},
   "outputs": [
    {
     "data": {
      "text/html": [
       "<div>\n",
       "<style scoped>\n",
       "    .dataframe tbody tr th:only-of-type {\n",
       "        vertical-align: middle;\n",
       "    }\n",
       "\n",
       "    .dataframe tbody tr th {\n",
       "        vertical-align: top;\n",
       "    }\n",
       "\n",
       "    .dataframe thead th {\n",
       "        text-align: right;\n",
       "    }\n",
       "</style>\n",
       "<table border=\"1\" class=\"dataframe\">\n",
       "  <thead>\n",
       "    <tr style=\"text-align: right;\">\n",
       "      <th></th>\n",
       "      <th>name</th>\n",
       "      <th>quote</th>\n",
       "      <th>email</th>\n",
       "      <th>phone</th>\n",
       "      <th>address</th>\n",
       "    </tr>\n",
       "  </thead>\n",
       "  <tbody>\n",
       "    <tr>\n",
       "      <th>0</th>\n",
       "      <td>Cody Ramirez</td>\n",
       "      <td>\"Persistent bottom-line website\"</td>\n",
       "      <td>williamsmichele@barnett.com</td>\n",
       "      <td>(233)203-9156x35612</td>\n",
       "      <td>447 Singleton Drive \\n                Guerrero...</td>\n",
       "    </tr>\n",
       "    <tr>\n",
       "      <th>1</th>\n",
       "      <td>Shannon Cummings</td>\n",
       "      <td>\"Seamless regional framework\"</td>\n",
       "      <td>stanleybarbara@yahoo.com</td>\n",
       "      <td>754.932.0449x900</td>\n",
       "      <td>85229 Nicole Plain Suite 389 \\n               ...</td>\n",
       "    </tr>\n",
       "    <tr>\n",
       "      <th>2</th>\n",
       "      <td>Robert Willis</td>\n",
       "      <td>\"Focused methodical hierarchy\"</td>\n",
       "      <td>megan13@hernandez.com</td>\n",
       "      <td>369.513.6142</td>\n",
       "      <td>08348 White Squares Apt. 909 \\n               ...</td>\n",
       "    </tr>\n",
       "    <tr>\n",
       "      <th>3</th>\n",
       "      <td>Stacy Gutierrez</td>\n",
       "      <td>\"Focused explicit software\"</td>\n",
       "      <td>smartinez@dixon.com</td>\n",
       "      <td>(636)185-1171x52850</td>\n",
       "      <td>559 Anthony Fields Suite 119 \\n               ...</td>\n",
       "    </tr>\n",
       "    <tr>\n",
       "      <th>4</th>\n",
       "      <td>Andrea White</td>\n",
       "      <td>\"Implemented client-driven adapter\"</td>\n",
       "      <td>bradschultz@stewart.info</td>\n",
       "      <td>(773)600-8326x363</td>\n",
       "      <td>1064 Allen Shores \\n                New Robert...</td>\n",
       "    </tr>\n",
       "    <tr>\n",
       "      <th>5</th>\n",
       "      <td>David Nicholson</td>\n",
       "      <td>\"Customizable systemic customer loyalty\"</td>\n",
       "      <td>vryan@gmail.com</td>\n",
       "      <td>001-023-592-4007</td>\n",
       "      <td>86352 Wilson Ferry \\n                Alexander...</td>\n",
       "    </tr>\n",
       "    <tr>\n",
       "      <th>6</th>\n",
       "      <td>Emma Baker</td>\n",
       "      <td>\"Stand-alone 5thgeneration core\"</td>\n",
       "      <td>hbrown@hotmail.com</td>\n",
       "      <td>+1-308-642-3756x619</td>\n",
       "      <td>16775 Jason Route Apt. 093 \\n                M...</td>\n",
       "    </tr>\n",
       "    <tr>\n",
       "      <th>7</th>\n",
       "      <td>Joshua Johnson</td>\n",
       "      <td>\"Devolved empowering forecast\"</td>\n",
       "      <td>megan77@lambert.info</td>\n",
       "      <td>001-216-376-0131x26959</td>\n",
       "      <td>5707 Nicholas Turnpike \\n                Laura...</td>\n",
       "    </tr>\n",
       "    <tr>\n",
       "      <th>8</th>\n",
       "      <td>Juan Martin</td>\n",
       "      <td>\"Triple-buffered 3rdgeneration parallelism\"</td>\n",
       "      <td>esnyder@huffman.com</td>\n",
       "      <td>621.514.0405x63181</td>\n",
       "      <td>2980 Anderson Mission Suite 762 \\n            ...</td>\n",
       "    </tr>\n",
       "    <tr>\n",
       "      <th>9</th>\n",
       "      <td>Vanessa Arnold</td>\n",
       "      <td>\"Quality-focused regional initiative\"</td>\n",
       "      <td>mackenzie52@gmail.com</td>\n",
       "      <td>115.660.1215</td>\n",
       "      <td>1953 Melissa Light \\n                East Robe...</td>\n",
       "    </tr>\n",
       "  </tbody>\n",
       "</table>\n",
       "</div>"
      ],
      "text/plain": [
       "               name                                        quote  \\\n",
       "0      Cody Ramirez             \"Persistent bottom-line website\"   \n",
       "1  Shannon Cummings                \"Seamless regional framework\"   \n",
       "2     Robert Willis               \"Focused methodical hierarchy\"   \n",
       "3   Stacy Gutierrez                  \"Focused explicit software\"   \n",
       "4      Andrea White          \"Implemented client-driven adapter\"   \n",
       "5   David Nicholson     \"Customizable systemic customer loyalty\"   \n",
       "6        Emma Baker             \"Stand-alone 5thgeneration core\"   \n",
       "7    Joshua Johnson               \"Devolved empowering forecast\"   \n",
       "8       Juan Martin  \"Triple-buffered 3rdgeneration parallelism\"   \n",
       "9    Vanessa Arnold        \"Quality-focused regional initiative\"   \n",
       "\n",
       "                         email                   phone  \\\n",
       "0  williamsmichele@barnett.com     (233)203-9156x35612   \n",
       "1     stanleybarbara@yahoo.com        754.932.0449x900   \n",
       "2        megan13@hernandez.com            369.513.6142   \n",
       "3          smartinez@dixon.com     (636)185-1171x52850   \n",
       "4     bradschultz@stewart.info       (773)600-8326x363   \n",
       "5              vryan@gmail.com        001-023-592-4007   \n",
       "6           hbrown@hotmail.com     +1-308-642-3756x619   \n",
       "7         megan77@lambert.info  001-216-376-0131x26959   \n",
       "8          esnyder@huffman.com      621.514.0405x63181   \n",
       "9        mackenzie52@gmail.com            115.660.1215   \n",
       "\n",
       "                                             address  \n",
       "0  447 Singleton Drive \\n                Guerrero...  \n",
       "1  85229 Nicole Plain Suite 389 \\n               ...  \n",
       "2  08348 White Squares Apt. 909 \\n               ...  \n",
       "3  559 Anthony Fields Suite 119 \\n               ...  \n",
       "4  1064 Allen Shores \\n                New Robert...  \n",
       "5  86352 Wilson Ferry \\n                Alexander...  \n",
       "6  16775 Jason Route Apt. 093 \\n                M...  \n",
       "7  5707 Nicholas Turnpike \\n                Laura...  \n",
       "8  2980 Anderson Mission Suite 762 \\n            ...  \n",
       "9  1953 Melissa Light \\n                East Robe...  "
      ]
     },
     "execution_count": 80,
     "metadata": {},
     "output_type": "execute_result"
    }
   ],
   "source": [
    "pd.DataFrame([process_person(person) for person in people])"
   ]
  },
  {
   "cell_type": "code",
   "execution_count": null,
   "metadata": {},
   "outputs": [],
   "source": []
  }
 ],
 "metadata": {
  "kernelspec": {
   "display_name": "Python 3",
   "language": "python",
   "name": "python3"
  },
  "language_info": {
   "codemirror_mode": {
    "name": "ipython",
    "version": 3
   },
   "file_extension": ".py",
   "mimetype": "text/x-python",
   "name": "python",
   "nbconvert_exporter": "python",
   "pygments_lexer": "ipython3",
   "version": "3.8.5"
  }
 },
 "nbformat": 4,
 "nbformat_minor": 4
}
