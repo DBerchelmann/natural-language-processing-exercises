{
 "cells": [
  {
   "cell_type": "code",
   "execution_count": 1,
   "metadata": {},
   "outputs": [],
   "source": [
    "import requests\n",
    "import bs4\n"
   ]
  },
  {
   "cell_type": "code",
   "execution_count": null,
   "metadata": {},
   "outputs": [],
   "source": []
  },
  {
   "cell_type": "code",
   "execution_count": 9,
   "metadata": {
    "scrolled": true
   },
   "outputs": [],
   "source": [
    "# make the http request and turn the reponse into a beautiful soup object\n",
    "\n",
    "response = requests.get('https://web-scraping-demo.zgulde.net/news')\n",
    "html = response.text\n",
    "soup = bs4.BeautifulSoup(html)"
   ]
  },
  {
   "cell_type": "code",
   "execution_count": 12,
   "metadata": {},
   "outputs": [],
   "source": [
    "article_container = soup.select('.grid.gap-y-12')[0]"
   ]
  },
  {
   "cell_type": "code",
   "execution_count": 14,
   "metadata": {},
   "outputs": [],
   "source": [
    "articles = article_container.children"
   ]
  },
  {
   "cell_type": "code",
   "execution_count": 17,
   "metadata": {},
   "outputs": [
    {
     "data": {
      "text/plain": [
       "12"
      ]
     },
     "execution_count": 17,
     "metadata": {},
     "output_type": "execute_result"
    }
   ],
   "source": [
    "len(article_container.select('.grid.grid-cols-4.gap-x-4.border'))"
   ]
  },
  {
   "cell_type": "code",
   "execution_count": 20,
   "metadata": {
    "scrolled": true
   },
   "outputs": [],
   "source": [
    "articles = article_container.select('.grid.grid-cols-4.gap-x-4.border')"
   ]
  },
  {
   "cell_type": "code",
   "execution_count": 22,
   "metadata": {},
   "outputs": [
    {
     "name": "stdout",
     "output_type": "stream",
     "text": [
      "<div class=\"grid grid-cols-4 gap-x-4 border rounded pr-3 bg-green-50 hover:shadow-lg transition duration-500\">\n",
      " <img src=\"/static/placeholder.png\"/>\n",
      " <div class=\"col-span-3 space-y-3 py-3\">\n",
      "  <h2 class=\"text-2xl text-green-900\">\n",
      "   act debate believe\n",
      "  </h2>\n",
      "  <div class=\"grid grid-cols-2 italic\">\n",
      "   <p>\n",
      "    2013-07-16\n",
      "   </p>\n",
      "   <p class=\"text-right\">\n",
      "    By Jillian Fitzpatrick\n",
      "   </p>\n",
      "  </div>\n",
      "  <p>\n",
      "   Big court marriage affect add attention me. Southern share yard find social thousand large respond.\n",
      "Record box thousand receive area. Continue hotel staff song just ball somebody eat. Life bank figure wife work audience site.\n",
      "  </p>\n",
      " </div>\n",
      "</div>\n",
      "\n"
     ]
    }
   ],
   "source": [
    "article = articles[0]\n",
    "# get a pretty printed represenation of our element\n",
    "print(article.prettify())"
   ]
  },
  {
   "cell_type": "code",
   "execution_count": 24,
   "metadata": {},
   "outputs": [],
   "source": [
    "title = article.find('h2').text"
   ]
  },
  {
   "cell_type": "code",
   "execution_count": 46,
   "metadata": {},
   "outputs": [],
   "source": [
    "title = article.find('h2').text\n",
    "date_and_byline_div = article.select('.grid.grid-cols-2.italic')[0]"
   ]
  },
  {
   "cell_type": "code",
   "execution_count": 47,
   "metadata": {},
   "outputs": [
    {
     "data": {
      "text/plain": [
       "' 2013-07-16 '"
      ]
     },
     "execution_count": 47,
     "metadata": {},
     "output_type": "execute_result"
    }
   ],
   "source": [
    "date_p, by_p = date_and_byline_div.find_all('p')\n",
    "date_p.text"
   ]
  },
  {
   "cell_type": "code",
   "execution_count": 48,
   "metadata": {},
   "outputs": [
    {
     "data": {
      "text/plain": [
       "<p class=\"text-right\">By Jillian Fitzpatrick </p>"
      ]
     },
     "execution_count": 48,
     "metadata": {},
     "output_type": "execute_result"
    }
   ],
   "source": [
    "by_p"
   ]
  },
  {
   "cell_type": "code",
   "execution_count": 45,
   "metadata": {},
   "outputs": [],
   "source": [
    "summary = article.find_all('p')[-1].text"
   ]
  },
  {
   "cell_type": "code",
   "execution_count": 52,
   "metadata": {},
   "outputs": [],
   "source": [
    "def process_article(article):\n",
    "    \n",
    "    title = article.find('h2').text\n",
    "    date_and_byline_div = article.select('.grid.grid-cols-2.italic')[0]\n",
    "    date_p, by_p = date_and_byline_div.find_all('p')\n",
    "    summary = article.find_all('p')[-1].text\n",
    "\n",
    "    return {\n",
    "        \"title\": title,\n",
    "        \"date\": date_p.text,\n",
    "        \"by\": by_p.text,\n",
    "        \"summary\": summary\n",
    "\n",
    "        }\n"
   ]
  },
  {
   "cell_type": "code",
   "execution_count": 53,
   "metadata": {},
   "outputs": [
    {
     "data": {
      "text/plain": [
       "{'title': 'choose factor help',\n",
       " 'date': ' 1971-01-02 ',\n",
       " 'by': 'By Matthew Price ',\n",
       " 'summary': 'High attack ask build year. Away share different car method answer skin.\\nPull huge range prevent card. Black bad case.'}"
      ]
     },
     "execution_count": 53,
     "metadata": {},
     "output_type": "execute_result"
    }
   ],
   "source": [
    "process_article(articles[3])"
   ]
  },
  {
   "cell_type": "code",
   "execution_count": 54,
   "metadata": {},
   "outputs": [
    {
     "data": {
      "text/html": [
       "<div>\n",
       "<style scoped>\n",
       "    .dataframe tbody tr th:only-of-type {\n",
       "        vertical-align: middle;\n",
       "    }\n",
       "\n",
       "    .dataframe tbody tr th {\n",
       "        vertical-align: top;\n",
       "    }\n",
       "\n",
       "    .dataframe thead th {\n",
       "        text-align: right;\n",
       "    }\n",
       "</style>\n",
       "<table border=\"1\" class=\"dataframe\">\n",
       "  <thead>\n",
       "    <tr style=\"text-align: right;\">\n",
       "      <th></th>\n",
       "      <th>title</th>\n",
       "      <th>date</th>\n",
       "      <th>by</th>\n",
       "      <th>summary</th>\n",
       "    </tr>\n",
       "  </thead>\n",
       "  <tbody>\n",
       "    <tr>\n",
       "      <th>0</th>\n",
       "      <td>act debate believe</td>\n",
       "      <td>2013-07-16</td>\n",
       "      <td>By Jillian Fitzpatrick</td>\n",
       "      <td>Big court marriage affect add attention me. So...</td>\n",
       "    </tr>\n",
       "    <tr>\n",
       "      <th>1</th>\n",
       "      <td>box eye example</td>\n",
       "      <td>1970-11-29</td>\n",
       "      <td>By Casey Spencer</td>\n",
       "      <td>Key least actually staff. He perform rest sort...</td>\n",
       "    </tr>\n",
       "    <tr>\n",
       "      <th>2</th>\n",
       "      <td>role when century</td>\n",
       "      <td>1999-10-17</td>\n",
       "      <td>By Kelly Shaffer</td>\n",
       "      <td>Top successful open week perform impact off. O...</td>\n",
       "    </tr>\n",
       "    <tr>\n",
       "      <th>3</th>\n",
       "      <td>choose factor help</td>\n",
       "      <td>1971-01-02</td>\n",
       "      <td>By Matthew Price</td>\n",
       "      <td>High attack ask build year. Away share differe...</td>\n",
       "    </tr>\n",
       "    <tr>\n",
       "      <th>4</th>\n",
       "      <td>reveal follow environmental</td>\n",
       "      <td>1987-06-02</td>\n",
       "      <td>By Brittany Ramirez</td>\n",
       "      <td>Security out check before share receive you. R...</td>\n",
       "    </tr>\n",
       "    <tr>\n",
       "      <th>5</th>\n",
       "      <td>usually sister citizen</td>\n",
       "      <td>1995-01-06</td>\n",
       "      <td>By Anna Dean</td>\n",
       "      <td>Leg wear most entire seem front. Company organ...</td>\n",
       "    </tr>\n",
       "    <tr>\n",
       "      <th>6</th>\n",
       "      <td>continue company expert</td>\n",
       "      <td>2006-07-16</td>\n",
       "      <td>By Emily Atkins</td>\n",
       "      <td>Show employee government. Before so image. Typ...</td>\n",
       "    </tr>\n",
       "    <tr>\n",
       "      <th>7</th>\n",
       "      <td>the my drop</td>\n",
       "      <td>2003-09-19</td>\n",
       "      <td>By Anthony Harrison</td>\n",
       "      <td>Soon him stay better station no. Country ago b...</td>\n",
       "    </tr>\n",
       "    <tr>\n",
       "      <th>8</th>\n",
       "      <td>ball suffer claim</td>\n",
       "      <td>2012-02-17</td>\n",
       "      <td>By Joshua Sullivan</td>\n",
       "      <td>Success now inside push off bring. Business fr...</td>\n",
       "    </tr>\n",
       "    <tr>\n",
       "      <th>9</th>\n",
       "      <td>firm window blue</td>\n",
       "      <td>1990-05-02</td>\n",
       "      <td>By Joanna Shaw</td>\n",
       "      <td>Authority bit decision race. Budget wrong fami...</td>\n",
       "    </tr>\n",
       "    <tr>\n",
       "      <th>10</th>\n",
       "      <td>guy American alone</td>\n",
       "      <td>1995-11-04</td>\n",
       "      <td>By Timothy Henson</td>\n",
       "      <td>Stop individual behind candidate. Middle growt...</td>\n",
       "    </tr>\n",
       "    <tr>\n",
       "      <th>11</th>\n",
       "      <td>century meet him</td>\n",
       "      <td>1991-11-10</td>\n",
       "      <td>By Jason Moore</td>\n",
       "      <td>Himself Republican sell. Campaign pretty low i...</td>\n",
       "    </tr>\n",
       "  </tbody>\n",
       "</table>\n",
       "</div>"
      ],
      "text/plain": [
       "                          title          date                       by  \\\n",
       "0            act debate believe   2013-07-16   By Jillian Fitzpatrick    \n",
       "1               box eye example   1970-11-29         By Casey Spencer    \n",
       "2             role when century   1999-10-17         By Kelly Shaffer    \n",
       "3            choose factor help   1971-01-02         By Matthew Price    \n",
       "4   reveal follow environmental   1987-06-02      By Brittany Ramirez    \n",
       "5        usually sister citizen   1995-01-06             By Anna Dean    \n",
       "6       continue company expert   2006-07-16          By Emily Atkins    \n",
       "7                   the my drop   2003-09-19      By Anthony Harrison    \n",
       "8             ball suffer claim   2012-02-17       By Joshua Sullivan    \n",
       "9              firm window blue   1990-05-02           By Joanna Shaw    \n",
       "10           guy American alone   1995-11-04        By Timothy Henson    \n",
       "11             century meet him   1991-11-10           By Jason Moore    \n",
       "\n",
       "                                              summary  \n",
       "0   Big court marriage affect add attention me. So...  \n",
       "1   Key least actually staff. He perform rest sort...  \n",
       "2   Top successful open week perform impact off. O...  \n",
       "3   High attack ask build year. Away share differe...  \n",
       "4   Security out check before share receive you. R...  \n",
       "5   Leg wear most entire seem front. Company organ...  \n",
       "6   Show employee government. Before so image. Typ...  \n",
       "7   Soon him stay better station no. Country ago b...  \n",
       "8   Success now inside push off bring. Business fr...  \n",
       "9   Authority bit decision race. Budget wrong fami...  \n",
       "10  Stop individual behind candidate. Middle growt...  \n",
       "11  Himself Republican sell. Campaign pretty low i...  "
      ]
     },
     "execution_count": 54,
     "metadata": {},
     "output_type": "execute_result"
    }
   ],
   "source": [
    "import pandas as pd\n",
    "\n",
    "pd.DataFrame([process_article(article) for article in articles])"
   ]
  },
  {
   "cell_type": "code",
   "execution_count": null,
   "metadata": {},
   "outputs": [],
   "source": []
  }
 ],
 "metadata": {
  "kernelspec": {
   "display_name": "Python 3",
   "language": "python",
   "name": "python3"
  },
  "language_info": {
   "codemirror_mode": {
    "name": "ipython",
    "version": 3
   },
   "file_extension": ".py",
   "mimetype": "text/x-python",
   "name": "python",
   "nbconvert_exporter": "python",
   "pygments_lexer": "ipython3",
   "version": "3.8.5"
  }
 },
 "nbformat": 4,
 "nbformat_minor": 4
}
