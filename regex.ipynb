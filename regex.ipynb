{
 "cells": [
  {
   "cell_type": "code",
   "execution_count": 1,
   "metadata": {},
   "outputs": [],
   "source": [
    "# bring in libraries\n",
    "\n",
    "import re\n",
    "import pandas as pd\n",
    "import numpy as np"
   ]
  },
  {
   "cell_type": "markdown",
   "metadata": {},
   "source": [
    "--------\n",
    "\n",
    "## REGEX EXERCISES\n",
    "\n",
    "-----"
   ]
  },
  {
   "cell_type": "markdown",
   "metadata": {},
   "source": [
    "\n",
    "\n",
    "- Write a function named is_vowel. It should accept a string as input and use a regular expression to determine if the passed string is a vowel. While not explicity mentioned in the lesson, you can treat the result of re.search as a boolean value that indicates whether or not the regular expression matches the given string.\n",
    "\n",
    "-------"
   ]
  },
  {
   "cell_type": "code",
   "execution_count": 2,
   "metadata": {},
   "outputs": [],
   "source": [
    "# the regular way to create a function to check if string is a vowel\n",
    "\n",
    "def is_vowel(letter):\n",
    "    ''' this function checks a string to determine if it's a vowel '''\n",
    "    \n",
    "    for char in letter:\n",
    "        if char in ('AEIOUaeiou'):\n",
    "            print(f'The character, {letter}, is a vowel')\n",
    "        else:\n",
    "            print(f'The character, {letter}, is not a vowel')\n",
    "    "
   ]
  },
  {
   "cell_type": "code",
   "execution_count": 3,
   "metadata": {},
   "outputs": [
    {
     "name": "stdout",
     "output_type": "stream",
     "text": [
      "The character, r, is not a vowel\n"
     ]
    }
   ],
   "source": [
    "is_vowel('r')"
   ]
  },
  {
   "cell_type": "code",
   "execution_count": 4,
   "metadata": {},
   "outputs": [],
   "source": [
    "# the regex way to create a function to see if a string is vowel\n",
    "\n",
    "\n",
    "def is_vowel(letter):\n",
    "    \n",
    "    '''This function uses regex to establish if a letter is a vowel or not'''\n",
    "    \n",
    "    \n",
    "    regexp = r'[AEIOUaeiou]'         \n",
    "  \n",
    "    if (re.search(regexp, letter)):\n",
    "        print('Valid, this is a vowel')\n",
    "    else:\n",
    "        print(f'{letter} is not a vowel. Please try again.')\n",
    "            \n",
    "        \n",
    " "
   ]
  },
  {
   "cell_type": "code",
   "execution_count": 19,
   "metadata": {},
   "outputs": [
    {
     "name": "stdout",
     "output_type": "stream",
     "text": [
      "Valid, this is a vowel\n"
     ]
    }
   ],
   "source": [
    "is_vowel('E')"
   ]
  },
  {
   "cell_type": "code",
   "execution_count": 6,
   "metadata": {},
   "outputs": [
    {
     "name": "stdout",
     "output_type": "stream",
     "text": [
      "T is not a vowel. Please try again.\n"
     ]
    }
   ],
   "source": [
    "is_vowel('T')"
   ]
  },
  {
   "cell_type": "markdown",
   "metadata": {},
   "source": [
    "----------\n",
    "\n",
    "- Write a function named is_valid_username that accepts a string as input. A valid username starts with a lowercase letter, and only consists of lowercase letters, numbers, or the _ character. It should also be no longer than 32 characters. The function should return either True or False depending on whether the passed string is a valid username.\n",
    "\n",
    "-------"
   ]
  },
  {
   "cell_type": "code",
   "execution_count": 57,
   "metadata": {},
   "outputs": [],
   "source": [
    "def is_valid_username(user):\n",
    "    \n",
    "    ''' This function will return a True or False based on if a username is valid. Validity is determined based on starting with a lower\n",
    "    case letter and only consisting of either lowercase letters, numbers or the _ character. Length can be no more than 32 \n",
    "    characters. True = all conditions met and is Valid, False = one more more conditions not met so not valid '''\n",
    "    \n",
    "    \n",
    "    regexp = '(?=^.{1,32}$)^[a-z].*[\\w]'\n",
    "    # regexp = '(^[a-z\\w]{1,31}$)'\n",
    "   \n",
    "  \n",
    "    if (re.search(regexp, user)):\n",
    "        print('This username is valid')\n",
    "    else:\n",
    "        print(f'The username, {user}, does not meet verification standards. Please see requirements and try again.')"
   ]
  },
  {
   "cell_type": "code",
   "execution_count": 58,
   "metadata": {},
   "outputs": [
    {
     "name": "stdout",
     "output_type": "stream",
     "text": [
      "This username is valid\n"
     ]
    }
   ],
   "source": [
    "is_valid_username('lasdffd')"
   ]
  },
  {
   "cell_type": "code",
   "execution_count": 54,
   "metadata": {},
   "outputs": [
    {
     "name": "stdout",
     "output_type": "stream",
     "text": [
      "The username, Sam, does not meet verification standards. Please see requirements and try again.\n"
     ]
    }
   ],
   "source": [
    "is_valid_username('Sam')"
   ]
  },
  {
   "cell_type": "markdown",
   "metadata": {},
   "source": [
    "+1 210.867.5309------\n",
    "\n",
    "- Write a regular expression to capture phone numbers. It should match all of the following:\n",
    "\n",
    "\n",
    "(210) 867 5309\n",
    "  \n",
    "+1 210.867.5309\n",
    "   \n",
    "867-5309\n",
    "   \n",
    "210-867-5309\n",
    "\n",
    "------"
   ]
  },
  {
   "cell_type": "code",
   "execution_count": 128,
   "metadata": {},
   "outputs": [],
   "source": [
    "def capture_numbers(digits):\n",
    "    \n",
    "    ''' This function captures number combination that is up 15 characters '''\n",
    "    \n",
    "    regexp = r'^.{1,15}$'\n",
    "    \n",
    "    if (re.search(regexp, digits)):\n",
    "        print(f'This phone is {digits}.')\n",
    "    else:\n",
    "        print(f'This phone number is not in the proper format.')"
   ]
  },
  {
   "cell_type": "code",
   "execution_count": 129,
   "metadata": {},
   "outputs": [
    {
     "name": "stdout",
     "output_type": "stream",
     "text": [
      "This phone is (210) 867 5309.\n"
     ]
    }
   ],
   "source": [
    "capture_numbers('(210) 867 5309')"
   ]
  },
  {
   "cell_type": "code",
   "execution_count": 130,
   "metadata": {},
   "outputs": [
    {
     "name": "stdout",
     "output_type": "stream",
     "text": [
      "This phone is +1 210.867.5309.\n"
     ]
    }
   ],
   "source": [
    "capture_numbers('+1 210.867.5309')"
   ]
  },
  {
   "cell_type": "markdown",
   "metadata": {},
   "source": [
    "------\n",
    "\n",
    "- Use regular expressions to convert the dates below to the standardized year-month-day format.\n",
    "\n",
    "\n",
    "02/04/19\n",
    "\n",
    "02/05/19\n",
    "\n",
    "02/06/19\n",
    "\n",
    "02/07/19\n",
    "\n",
    "02/08/19\n",
    "\n",
    "02/09/19\n",
    "\n",
    "02/10/19\n",
    "\n",
    "------"
   ]
  },
  {
   "cell_type": "code",
   "execution_count": 137,
   "metadata": {},
   "outputs": [],
   "source": [
    "dates = pd.Series(['02/04/19', '02/05/19', '02/06/19', '02/07/19', '02/08/19', '02/10/19'])\n"
   ]
  },
  {
   "cell_type": "code",
   "execution_count": 143,
   "metadata": {},
   "outputs": [
    {
     "data": {
      "text/plain": [
       "0    2019/02/04\n",
       "1    2019/02/05\n",
       "2    2019/02/06\n",
       "3    2019/02/07\n",
       "4    2019/02/08\n",
       "5    2019/02/10\n",
       "dtype: object"
      ]
     },
     "execution_count": 143,
     "metadata": {},
     "output_type": "execute_result"
    }
   ],
   "source": [
    "dates.str.replace(r'(\\d{2})/(\\d{2})/(\\d{2})', r'20\\3/\\1/\\2', regex=True)"
   ]
  },
  {
   "cell_type": "markdown",
   "metadata": {},
   "source": [
    "--------\n",
    "\n",
    "- Write a regex to extract the various parts of these logfile lines:\n",
    "\n",
    "\n",
    "\n",
    "GET /api/v1/sales?page=86 [16/Apr/2019:193452+0000] HTTP/1.1 {200} 510348 \"python-requests/2.21.0\" 97.105.19.58\n",
    "\n",
    "POST /users_accounts/file-upload [16/Apr/2019:193452+0000] HTTP/1.1 {201} 42 \"User-Agent: Mozilla/5.0 (X11; Fedora; Fedora;\n",
    "Linux x86_64) AppleWebKit/537.36 (KHTML, like Gecko) Chrome/73.0.3683.86 Safari/537.36\" 97.105.19.58\n",
    "\n",
    "GET /api/v1/items?page=3 [16/Apr/2019:193453+0000] HTTP/1.1 {429} 3561 \"python-requests/2.21.0\" 97.105.19.58\n",
    "\n",
    "------"
   ]
  },
  {
   "cell_type": "code",
   "execution_count": null,
   "metadata": {},
   "outputs": [],
   "source": []
  },
  {
   "cell_type": "code",
   "execution_count": null,
   "metadata": {},
   "outputs": [],
   "source": []
  },
  {
   "cell_type": "code",
   "execution_count": null,
   "metadata": {},
   "outputs": [],
   "source": []
  },
  {
   "cell_type": "markdown",
   "metadata": {},
   "source": [
    "--------\n",
    "\n",
    "- You can find a list of words on your mac at /usr/share/dict/words. Use this file to answer the following questions:\n",
    "\n",
    "How many words have at least 3 vowels?\n",
    "\n",
    "How many words have at least 3 vowels in a row?\n",
    "\n",
    "How many words have at least 4 consonants in a row?\n",
    "\n",
    "How many words start and end with the same letter?\n",
    "\n",
    "How many words start and end with a vowel?\n",
    "\n",
    "How many words contain the same letter 3 times in a row?\n",
    "\n",
    "What other interesting patterns in words can you find?\n",
    "\n",
    "\n",
    "-----"
   ]
  },
  {
   "cell_type": "code",
   "execution_count": null,
   "metadata": {},
   "outputs": [],
   "source": []
  }
 ],
 "metadata": {
  "kernelspec": {
   "display_name": "Python 3",
   "language": "python",
   "name": "python3"
  },
  "language_info": {
   "codemirror_mode": {
    "name": "ipython",
    "version": 3
   },
   "file_extension": ".py",
   "mimetype": "text/x-python",
   "name": "python",
   "nbconvert_exporter": "python",
   "pygments_lexer": "ipython3",
   "version": "3.8.5"
  }
 },
 "nbformat": 4,
 "nbformat_minor": 4
}
